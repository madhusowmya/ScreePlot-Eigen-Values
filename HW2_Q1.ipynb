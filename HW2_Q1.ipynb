{
 "cells": [
  {
   "cell_type": "code",
   "execution_count": 4,
   "metadata": {},
   "outputs": [],
   "source": [
    "import pandas as pd\n",
    "import numpy as np\n",
    "from sklearn.preprocessing import StandardScaler\n",
    "from matplotlib import*\n",
    "import matplotlib.pyplot as plt\n",
    "from matplotlib.cm import register_cmap\n",
    "from scipy import stats\n",
    "from sklearn.decomposition import PCA \n",
    "import seaborn\n",
    "from sklearn.decomposition import PCA\n",
    "from sklearn.preprocessing import scale"
   ]
  },
  {
   "cell_type": "markdown",
   "metadata": {},
   "source": [
    "1. READ THE DATA AND REDUCE IT TO 64 REQUIRED COLOUMNS"
   ]
  },
  {
   "cell_type": "code",
   "execution_count": 5,
   "metadata": {},
   "outputs": [
    {
     "data": {
      "text/html": [
       "<div>\n",
       "<style scoped>\n",
       "    .dataframe tbody tr th:only-of-type {\n",
       "        vertical-align: middle;\n",
       "    }\n",
       "\n",
       "    .dataframe tbody tr th {\n",
       "        vertical-align: top;\n",
       "    }\n",
       "\n",
       "    .dataframe thead th {\n",
       "        text-align: right;\n",
       "    }\n",
       "</style>\n",
       "<table border=\"1\" class=\"dataframe\">\n",
       "  <thead>\n",
       "    <tr style=\"text-align: right;\">\n",
       "      <th></th>\n",
       "      <th>data2</th>\n",
       "      <th>data3</th>\n",
       "      <th>data4</th>\n",
       "      <th>data5</th>\n",
       "      <th>data6</th>\n",
       "      <th>data7</th>\n",
       "      <th>data8</th>\n",
       "      <th>data9</th>\n",
       "      <th>data10</th>\n",
       "      <th>data11</th>\n",
       "      <th>...</th>\n",
       "      <th>data56</th>\n",
       "      <th>data57</th>\n",
       "      <th>data58</th>\n",
       "      <th>data59</th>\n",
       "      <th>data60</th>\n",
       "      <th>data61</th>\n",
       "      <th>data62</th>\n",
       "      <th>data63</th>\n",
       "      <th>data64</th>\n",
       "      <th>data65</th>\n",
       "    </tr>\n",
       "  </thead>\n",
       "  <tbody>\n",
       "    <tr>\n",
       "      <th>0</th>\n",
       "      <td>0.045643</td>\n",
       "      <td>0.068966</td>\n",
       "      <td>0.117647</td>\n",
       "      <td>0</td>\n",
       "      <td>0.285714</td>\n",
       "      <td>0.0</td>\n",
       "      <td>0.674371</td>\n",
       "      <td>0.772287</td>\n",
       "      <td>0.265889</td>\n",
       "      <td>0.005951</td>\n",
       "      <td>...</td>\n",
       "      <td>0</td>\n",
       "      <td>0</td>\n",
       "      <td>0</td>\n",
       "      <td>0</td>\n",
       "      <td>0</td>\n",
       "      <td>0</td>\n",
       "      <td>0.0</td>\n",
       "      <td>0.005952</td>\n",
       "      <td>0.0</td>\n",
       "      <td>0.0</td>\n",
       "    </tr>\n",
       "    <tr>\n",
       "      <th>1</th>\n",
       "      <td>0.203320</td>\n",
       "      <td>0.089655</td>\n",
       "      <td>0.176471</td>\n",
       "      <td>0</td>\n",
       "      <td>0.142857</td>\n",
       "      <td>0.0</td>\n",
       "      <td>0.608748</td>\n",
       "      <td>0.840232</td>\n",
       "      <td>0.457520</td>\n",
       "      <td>0.285713</td>\n",
       "      <td>...</td>\n",
       "      <td>0</td>\n",
       "      <td>0</td>\n",
       "      <td>0</td>\n",
       "      <td>0</td>\n",
       "      <td>0</td>\n",
       "      <td>0</td>\n",
       "      <td>0.0</td>\n",
       "      <td>0.001488</td>\n",
       "      <td>0.0</td>\n",
       "      <td>0.0</td>\n",
       "    </tr>\n",
       "    <tr>\n",
       "      <th>2</th>\n",
       "      <td>0.074689</td>\n",
       "      <td>0.124138</td>\n",
       "      <td>0.058824</td>\n",
       "      <td>0</td>\n",
       "      <td>0.285714</td>\n",
       "      <td>0.0</td>\n",
       "      <td>0.823479</td>\n",
       "      <td>0.807369</td>\n",
       "      <td>0.297082</td>\n",
       "      <td>0.011903</td>\n",
       "      <td>...</td>\n",
       "      <td>0</td>\n",
       "      <td>0</td>\n",
       "      <td>0</td>\n",
       "      <td>0</td>\n",
       "      <td>0</td>\n",
       "      <td>0</td>\n",
       "      <td>0.0</td>\n",
       "      <td>0.000000</td>\n",
       "      <td>0.0</td>\n",
       "      <td>0.0</td>\n",
       "    </tr>\n",
       "    <tr>\n",
       "      <th>3</th>\n",
       "      <td>0.066390</td>\n",
       "      <td>0.103448</td>\n",
       "      <td>0.117647</td>\n",
       "      <td>0</td>\n",
       "      <td>0.428571</td>\n",
       "      <td>0.0</td>\n",
       "      <td>0.684713</td>\n",
       "      <td>0.789068</td>\n",
       "      <td>0.652226</td>\n",
       "      <td>0.285672</td>\n",
       "      <td>...</td>\n",
       "      <td>0</td>\n",
       "      <td>0</td>\n",
       "      <td>0</td>\n",
       "      <td>0</td>\n",
       "      <td>0</td>\n",
       "      <td>0</td>\n",
       "      <td>0.0</td>\n",
       "      <td>0.001488</td>\n",
       "      <td>0.0</td>\n",
       "      <td>0.0</td>\n",
       "    </tr>\n",
       "    <tr>\n",
       "      <th>4</th>\n",
       "      <td>0.112033</td>\n",
       "      <td>0.082759</td>\n",
       "      <td>0.235294</td>\n",
       "      <td>0</td>\n",
       "      <td>0.000000</td>\n",
       "      <td>0.5</td>\n",
       "      <td>0.419381</td>\n",
       "      <td>0.820999</td>\n",
       "      <td>0.000000</td>\n",
       "      <td>0.023808</td>\n",
       "      <td>...</td>\n",
       "      <td>0</td>\n",
       "      <td>0</td>\n",
       "      <td>0</td>\n",
       "      <td>0</td>\n",
       "      <td>0</td>\n",
       "      <td>0</td>\n",
       "      <td>0.0</td>\n",
       "      <td>0.023810</td>\n",
       "      <td>0.0</td>\n",
       "      <td>0.0</td>\n",
       "    </tr>\n",
       "    <tr>\n",
       "      <th>...</th>\n",
       "      <td>...</td>\n",
       "      <td>...</td>\n",
       "      <td>...</td>\n",
       "      <td>...</td>\n",
       "      <td>...</td>\n",
       "      <td>...</td>\n",
       "      <td>...</td>\n",
       "      <td>...</td>\n",
       "      <td>...</td>\n",
       "      <td>...</td>\n",
       "      <td>...</td>\n",
       "      <td>...</td>\n",
       "      <td>...</td>\n",
       "      <td>...</td>\n",
       "      <td>...</td>\n",
       "      <td>...</td>\n",
       "      <td>...</td>\n",
       "      <td>...</td>\n",
       "      <td>...</td>\n",
       "      <td>...</td>\n",
       "      <td>...</td>\n",
       "    </tr>\n",
       "    <tr>\n",
       "      <th>995</th>\n",
       "      <td>0.116183</td>\n",
       "      <td>0.089655</td>\n",
       "      <td>0.117647</td>\n",
       "      <td>0</td>\n",
       "      <td>0.142857</td>\n",
       "      <td>0.0</td>\n",
       "      <td>0.608748</td>\n",
       "      <td>0.840232</td>\n",
       "      <td>0.457520</td>\n",
       "      <td>0.285654</td>\n",
       "      <td>...</td>\n",
       "      <td>0</td>\n",
       "      <td>0</td>\n",
       "      <td>0</td>\n",
       "      <td>0</td>\n",
       "      <td>0</td>\n",
       "      <td>0</td>\n",
       "      <td>0.0</td>\n",
       "      <td>0.001400</td>\n",
       "      <td>0.0</td>\n",
       "      <td>0.0</td>\n",
       "    </tr>\n",
       "    <tr>\n",
       "      <th>996</th>\n",
       "      <td>0.161826</td>\n",
       "      <td>0.089655</td>\n",
       "      <td>0.176471</td>\n",
       "      <td>0</td>\n",
       "      <td>0.142857</td>\n",
       "      <td>0.0</td>\n",
       "      <td>0.608748</td>\n",
       "      <td>0.840232</td>\n",
       "      <td>0.457520</td>\n",
       "      <td>0.285711</td>\n",
       "      <td>...</td>\n",
       "      <td>0</td>\n",
       "      <td>0</td>\n",
       "      <td>0</td>\n",
       "      <td>0</td>\n",
       "      <td>0</td>\n",
       "      <td>0</td>\n",
       "      <td>0.0</td>\n",
       "      <td>0.001399</td>\n",
       "      <td>0.0</td>\n",
       "      <td>0.0</td>\n",
       "    </tr>\n",
       "    <tr>\n",
       "      <th>997</th>\n",
       "      <td>0.058091</td>\n",
       "      <td>0.089655</td>\n",
       "      <td>0.117647</td>\n",
       "      <td>0</td>\n",
       "      <td>0.142857</td>\n",
       "      <td>0.0</td>\n",
       "      <td>0.705068</td>\n",
       "      <td>0.851070</td>\n",
       "      <td>0.379919</td>\n",
       "      <td>0.000494</td>\n",
       "      <td>...</td>\n",
       "      <td>0</td>\n",
       "      <td>0</td>\n",
       "      <td>0</td>\n",
       "      <td>0</td>\n",
       "      <td>0</td>\n",
       "      <td>0</td>\n",
       "      <td>0.0</td>\n",
       "      <td>0.000000</td>\n",
       "      <td>0.0</td>\n",
       "      <td>0.0</td>\n",
       "    </tr>\n",
       "    <tr>\n",
       "      <th>998</th>\n",
       "      <td>0.029046</td>\n",
       "      <td>0.048276</td>\n",
       "      <td>0.058824</td>\n",
       "      <td>0</td>\n",
       "      <td>0.142857</td>\n",
       "      <td>0.0</td>\n",
       "      <td>0.858922</td>\n",
       "      <td>0.829506</td>\n",
       "      <td>0.167817</td>\n",
       "      <td>0.142856</td>\n",
       "      <td>...</td>\n",
       "      <td>0</td>\n",
       "      <td>0</td>\n",
       "      <td>0</td>\n",
       "      <td>0</td>\n",
       "      <td>0</td>\n",
       "      <td>0</td>\n",
       "      <td>0.0</td>\n",
       "      <td>0.000000</td>\n",
       "      <td>0.0</td>\n",
       "      <td>0.0</td>\n",
       "    </tr>\n",
       "    <tr>\n",
       "      <th>999</th>\n",
       "      <td>0.066390</td>\n",
       "      <td>0.103448</td>\n",
       "      <td>0.117647</td>\n",
       "      <td>0</td>\n",
       "      <td>0.142857</td>\n",
       "      <td>0.0</td>\n",
       "      <td>0.795931</td>\n",
       "      <td>0.841981</td>\n",
       "      <td>0.282086</td>\n",
       "      <td>0.285713</td>\n",
       "      <td>...</td>\n",
       "      <td>0</td>\n",
       "      <td>0</td>\n",
       "      <td>0</td>\n",
       "      <td>0</td>\n",
       "      <td>0</td>\n",
       "      <td>0</td>\n",
       "      <td>0.0</td>\n",
       "      <td>0.001984</td>\n",
       "      <td>0.0</td>\n",
       "      <td>0.0</td>\n",
       "    </tr>\n",
       "  </tbody>\n",
       "</table>\n",
       "<p>1000 rows × 64 columns</p>\n",
       "</div>"
      ],
      "text/plain": [
       "        data2     data3     data4  data5     data6  data7     data8     data9  \\\n",
       "0    0.045643  0.068966  0.117647      0  0.285714    0.0  0.674371  0.772287   \n",
       "1    0.203320  0.089655  0.176471      0  0.142857    0.0  0.608748  0.840232   \n",
       "2    0.074689  0.124138  0.058824      0  0.285714    0.0  0.823479  0.807369   \n",
       "3    0.066390  0.103448  0.117647      0  0.428571    0.0  0.684713  0.789068   \n",
       "4    0.112033  0.082759  0.235294      0  0.000000    0.5  0.419381  0.820999   \n",
       "..        ...       ...       ...    ...       ...    ...       ...       ...   \n",
       "995  0.116183  0.089655  0.117647      0  0.142857    0.0  0.608748  0.840232   \n",
       "996  0.161826  0.089655  0.176471      0  0.142857    0.0  0.608748  0.840232   \n",
       "997  0.058091  0.089655  0.117647      0  0.142857    0.0  0.705068  0.851070   \n",
       "998  0.029046  0.048276  0.058824      0  0.142857    0.0  0.858922  0.829506   \n",
       "999  0.066390  0.103448  0.117647      0  0.142857    0.0  0.795931  0.841981   \n",
       "\n",
       "       data10    data11  ...  data56  data57  data58  data59  data60  data61  \\\n",
       "0    0.265889  0.005951  ...       0       0       0       0       0       0   \n",
       "1    0.457520  0.285713  ...       0       0       0       0       0       0   \n",
       "2    0.297082  0.011903  ...       0       0       0       0       0       0   \n",
       "3    0.652226  0.285672  ...       0       0       0       0       0       0   \n",
       "4    0.000000  0.023808  ...       0       0       0       0       0       0   \n",
       "..        ...       ...  ...     ...     ...     ...     ...     ...     ...   \n",
       "995  0.457520  0.285654  ...       0       0       0       0       0       0   \n",
       "996  0.457520  0.285711  ...       0       0       0       0       0       0   \n",
       "997  0.379919  0.000494  ...       0       0       0       0       0       0   \n",
       "998  0.167817  0.142856  ...       0       0       0       0       0       0   \n",
       "999  0.282086  0.285713  ...       0       0       0       0       0       0   \n",
       "\n",
       "     data62    data63  data64  data65  \n",
       "0       0.0  0.005952     0.0     0.0  \n",
       "1       0.0  0.001488     0.0     0.0  \n",
       "2       0.0  0.000000     0.0     0.0  \n",
       "3       0.0  0.001488     0.0     0.0  \n",
       "4       0.0  0.023810     0.0     0.0  \n",
       "..      ...       ...     ...     ...  \n",
       "995     0.0  0.001400     0.0     0.0  \n",
       "996     0.0  0.001399     0.0     0.0  \n",
       "997     0.0  0.000000     0.0     0.0  \n",
       "998     0.0  0.000000     0.0     0.0  \n",
       "999     0.0  0.001984     0.0     0.0  \n",
       "\n",
       "[1000 rows x 64 columns]"
      ]
     },
     "execution_count": 5,
     "metadata": {},
     "output_type": "execute_result"
    }
   ],
   "source": [
    "data = pd.read_excel(r'C:\\Users\\madhu\\Desktop\\Academics\\Data Analytics\\HW2\\urldata.xlsx')\n",
    "df = pd.DataFrame(data)\n",
    "target = df['data1']\n",
    "df = df.iloc[:,1:65]\n",
    "df"
   ]
  },
  {
   "cell_type": "code",
   "execution_count": null,
   "metadata": {},
   "outputs": [],
   "source": []
  },
  {
   "cell_type": "markdown",
   "metadata": {},
   "source": [
    "Calculate PCA and Eigen Values to maintain 99% variance"
   ]
  },
  {
   "cell_type": "code",
   "execution_count": 29,
   "metadata": {},
   "outputs": [
    {
     "name": "stdout",
     "output_type": "stream",
     "text": [
      "(1000, 28)\n",
      "Reduced number of components: 28\n"
     ]
    }
   ],
   "source": [
    "from sklearn.decomposition import PCA \n",
    "pca1 = PCA(0.99)\n",
    "pca1.fit(scaled_data)\n",
    "x_pca1 = pca1.transform(scaled_data)\n",
    "print(x_pca1.shape)\n",
    "cov_mat = np.cov(x_pca1.T)\n",
    "eig_vals1, eig_vecs = np.linalg.eig(cov_mat)\n",
    "#print('\\nEigenvalues \\n%s' %eig_vals1)\n",
    "sorted_eig1 = sorted(eig_vals1, reverse = True)\n",
    "print(\"Reduced number of components:\",pca1.n_components_)"
   ]
  },
  {
   "cell_type": "markdown",
   "metadata": {},
   "source": [
    "Calculate PCA and Eignen Values to maintain 95% variance"
   ]
  },
  {
   "cell_type": "code",
   "execution_count": 30,
   "metadata": {},
   "outputs": [
    {
     "name": "stdout",
     "output_type": "stream",
     "text": [
      "(1000, 22)\n",
      "Reduced number of components: 22\n"
     ]
    }
   ],
   "source": [
    "from sklearn.decomposition import PCA \n",
    "pca2 = PCA(0.95)\n",
    "pca2.fit(scaled_data)\n",
    "x_pca2 = pca2.transform(scaled_data)\n",
    "print(x_pca2.shape)\n",
    "cov_mat = np.cov(x_pca2.T)\n",
    "eig_vals2, eig_vecs = np.linalg.eig(cov_mat)\n",
    "#print('\\nEigenvalues \\n%s' %eig_vals2)\n",
    "sorted_eig2 = sorted(eig_vals2, reverse = True)\n",
    "print(\"Reduced number of components:\",pca2.n_components_)"
   ]
  },
  {
   "cell_type": "code",
   "execution_count": 38,
   "metadata": {},
   "outputs": [
    {
     "name": "stdout",
     "output_type": "stream",
     "text": [
      "[8.694766298631155, 7.299196044319201, 5.185227196707494, 2.9419912790097267, 2.5083892470160003, 2.3847457303987594, 2.1707812399397395, 2.007458105012102, 1.7225631832857655, 1.350494739122459, 1.3121085347613524, 1.070637144082624, 0.941887369513547, 0.9269046004790329, 0.7355158937448527, 0.6731450889885695, 0.6571445700353534, 0.5947233239210655, 0.5815330415377761, 0.4761154026401351, 0.44065966249843813, 0.4036092147389082, 0.35685642867747536, 0.3473795258890299, 0.2624678032110548, 0.22449463436838074, 0.2071695818439004, 0.18640452527501933]\n"
     ]
    }
   ],
   "source": [
    "print(sorted_eig1)"
   ]
  },
  {
   "cell_type": "markdown",
   "metadata": {},
   "source": [
    "SCREEPLOT TO MAINTAIN 99% VARIANCE"
   ]
  },
  {
   "cell_type": "code",
   "execution_count": 37,
   "metadata": {},
   "outputs": [
    {
     "data": {
      "image/png": "[encoded data removed]",
      "text/plain": [
       "<Figure size 432x288 with 1 Axes>"
      ]
     },
     "metadata": {
      "needs_background": "light"
     },
     "output_type": "display_data"
    }
   ],
   "source": [
    "fig, ax = plt.subplots()\n",
    "x = np.arange(start=1, stop=29, step=1)\n",
    "y = sorted_eig1\n",
    "plt.plot(x, y, marker='o', linestyle='--', color='b')\n",
    "plt.xlabel('Number of Components')\n",
    "plt.xticks(np.arange(1, 29, step=1)) \n",
    "plt.ylabel('Eigen values')\n",
    "plt.title('Scree plot')\n",
    "ax.grid(axis='x')\n",
    "plt.show()"
   ]
  },
  {
   "cell_type": "markdown",
   "metadata": {},
   "source": [
    "SCREE PLOT TO MAINTAIN 95% VARIANCE"
   ]
  },
  {
   "cell_type": "code",
   "execution_count": 32,
   "metadata": {},
   "outputs": [
    {
     "data": {
      "image/png": "[encoded data removed]",
      "text/plain": [
       "<Figure size 432x288 with 1 Axes>"
      ]
     },
     "metadata": {
      "needs_background": "light"
     },
     "output_type": "display_data"
    }
   ],
   "source": [
    "fig, ax = plt.subplots()\n",
    "x = np.arange(start=1, stop=23, step=1)\n",
    "y = sorted_eig2\n",
    "plt.plot(x, y, marker='o', linestyle='--', color='b')\n",
    "plt.xlabel('Number of Components')\n",
    "plt.xticks(np.arange(1, 23, step=1)) \n",
    "plt.ylabel('Eigen values')\n",
    "plt.title('Scree plot')\n",
    "ax.grid(axis='x')\n",
    "plt.show()"
   ]
  },
  {
   "cell_type": "markdown",
   "metadata": {},
   "source": [
    "Variance Vs Number of Components"
   ]
  },
  {
   "cell_type": "code",
   "execution_count": 42,
   "metadata": {},
   "outputs": [
    {
     "data": {
      "image/png": "[encoded data removed]",
      "text/plain": [
       "<Figure size 432x288 with 1 Axes>"
      ]
     },
     "metadata": {
      "needs_background": "light"
     },
     "output_type": "display_data"
    }
   ],
   "source": [
    "fig, ax = plt.subplots()\n",
    "x = np.arange(start=1, stop=29, step=1)\n",
    "y = np.cumsum(pca1.explained_variance_ratio_)\n",
    "\n",
    "plt.ylim(0.0,1.1)\n",
    "plt.plot(x, y, marker='o', linestyle='--', color='b')\n",
    "\n",
    "plt.xlabel('Number of Components')\n",
    "plt.xticks(np.arange(1, 29, step=1)) #change from 0-based array index to 1-based human-readable label\n",
    "plt.ylabel('Cumulative variance (%)')\n",
    "plt.title('The number of components needed to explain variance')\n",
    "\n",
    "plt.axhline(y=0.99, color='b', linestyle='-')\n",
    "plt.text(0.5, 1.01, '99% variance', color = 'red', fontsize=10)\n",
    "plt.axhline(y=0.95, color='g', linestyle='--')\n",
    "plt.text(0.5, 0.90, '95% variance', color = 'red', fontsize=10)\n",
    "\n",
    "ax.grid(axis='x')\n",
    "plt.show()"
   ]
  },
  {
   "cell_type": "markdown",
   "metadata": {},
   "source": [
    "Comments: From the observed scree plots, It is evident that Number of components are reduced withe explained varaince.Eigen values and Eigen Vectors are calculated from the covariance matrix of the projected data."
   ]
  },
  {
   "cell_type": "code",
   "execution_count": null,
   "metadata": {},
   "outputs": [],
   "source": []
  },
  {
   "cell_type": "code",
   "execution_count": null,
   "metadata": {},
   "outputs": [],
   "source": []
  }
 ],
 "metadata": {
  "kernelspec": {
   "display_name": "Python 3",
   "language": "python",
   "name": "python3"
  },
  "language_info": {
   "codemirror_mode": {
    "name": "ipython",
    "version": 3
   },
   "file_extension": ".py",
   "mimetype": "text/x-python",
   "name": "python",
   "nbconvert_exporter": "python",
   "pygments_lexer": "ipython3",
   "version": "3.7.6"
  }
 },
 "nbformat": 4,
 "nbformat_minor": 4
}
